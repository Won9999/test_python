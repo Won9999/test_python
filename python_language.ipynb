{
  "nbformat": 4,
  "nbformat_minor": 0,
  "metadata": {
    "colab": {
      "name": "python_language.ipynb",
      "provenance": [],
      "authorship_tag": "ABX9TyNujZws0JePusRrgKO3Snlu",
      "include_colab_link": true
    },
    "kernelspec": {
      "name": "python3",
      "display_name": "Python 3"
    },
    "language_info": {
      "name": "python"
    }
  },
  "cells": [
    {
      "cell_type": "markdown",
      "metadata": {
        "id": "view-in-github",
        "colab_type": "text"
      },
      "source": [
        "<a href=\"https://colab.research.google.com/github/Won9999/test_python/blob/main/python_language.ipynb\" target=\"_parent\"><img src=\"https://colab.research.google.com/assets/colab-badge.svg\" alt=\"Open In Colab\"/></a>"
      ]
    },
    {
      "cell_type": "code",
      "metadata": {
        "id": "M0CPMEtSTivi"
      },
      "source": [
        "import numpy as np"
      ],
      "execution_count": null,
      "outputs": []
    },
    {
      "cell_type": "code",
      "metadata": {
        "colab": {
          "base_uri": "https://localhost:8080/"
        },
        "id": "C7yApdfuV50B",
        "outputId": "136ab37c-8173-4f4c-d817-e172a89ac262"
      },
      "source": [
        "displacement = 307.0\n",
        "horsepower = 130.0\n",
        "weight = 3504.0\n",
        "accel = 12.0\n",
        "x_continus = np.array([displacement, horsepower, weight, accel,cylinder,org])\n",
        "\n",
        "cylinder = [0,0,0,0,1]\n",
        "org = [1,0,0]\n",
        "print(x_continus)"
      ],
      "execution_count": null,
      "outputs": [
        {
          "output_type": "stream",
          "text": [
            "[307.0 130.0 3504.0 12.0 list([0, 0, 0, 0, 1]) list([1, 0, 0])]\n"
          ],
          "name": "stdout"
        },
        {
          "output_type": "stream",
          "text": [
            "/usr/local/lib/python3.7/dist-packages/ipykernel_launcher.py:5: VisibleDeprecationWarning: Creating an ndarray from ragged nested sequences (which is a list-or-tuple of lists-or-tuples-or ndarrays with different lengths or shapes) is deprecated. If you meant to do this, you must specify 'dtype=object' when creating the ndarray\n",
            "  \"\"\"\n"
          ],
          "name": "stderr"
        }
      ]
    },
    {
      "cell_type": "code",
      "metadata": {
        "colab": {
          "base_uri": "https://localhost:8080/"
        },
        "id": "LVuYmMhnV753",
        "outputId": "f27d3f44-d62f-48d8-f20a-17b05589afba"
      },
      "source": [
        "result = np.concatenate((x_continus, cylinder, org), axis = None)\n",
        "result.shape, result"
      ],
      "execution_count": null,
      "outputs": [
        {
          "output_type": "execute_result",
          "data": {
            "text/plain": [
              "((12,),\n",
              " array([3.700e+02, 1.300e+02, 3.504e+03, 1.200e+01, 0.000e+00, 0.000e+00,\n",
              "        0.000e+00, 0.000e+00, 1.000e+00, 1.000e+00, 0.000e+00, 0.000e+00]))"
            ]
          },
          "metadata": {
            "tags": []
          },
          "execution_count": 11
        }
      ]
    },
    {
      "cell_type": "code",
      "metadata": {
        "id": "h_nZfLCKZSYg"
      },
      "source": [
        "def sum():\n",
        "  s = 21 * 32 *2 \n",
        "  return s"
      ],
      "execution_count": null,
      "outputs": []
    },
    {
      "cell_type": "code",
      "metadata": {
        "colab": {
          "base_uri": "https://localhost:8080/",
          "height": 169
        },
        "id": "_jDJTB07ulb_",
        "outputId": "75254c41-a570-44a7-ddde-b97f38839c99"
      },
      "source": [
        ""
      ],
      "execution_count": null,
      "outputs": [
        {
          "output_type": "error",
          "ename": "NameError",
          "evalue": "ignored",
          "traceback": [
            "\u001b[0;31m---------------------------------------------------------------------------\u001b[0m",
            "\u001b[0;31mNameError\u001b[0m                                 Traceback (most recent call last)",
            "\u001b[0;32m<ipython-input-16-ded5ba42480f>\u001b[0m in \u001b[0;36m<module>\u001b[0;34m()\u001b[0m\n\u001b[0;32m----> 1\u001b[0;31m \u001b[0ms\u001b[0m\u001b[0;34m\u001b[0m\u001b[0;34m\u001b[0m\u001b[0m\n\u001b[0m",
            "\u001b[0;31mNameError\u001b[0m: name 's' is not defined"
          ]
        }
      ]
    },
    {
      "cell_type": "code",
      "metadata": {
        "id": "ma48M-FBumd0"
      },
      "source": [
        "def diffparam(*var_list, **var_dict):\n",
        "  print(var_dict)\n",
        "  result01 = len(var_list)\n",
        "  return result 01"
      ],
      "execution_count": null,
      "outputs": []
    },
    {
      "cell_type": "code",
      "metadata": {
        "id": "OBWIigVZ3MLO"
      },
      "source": [
        "def onehotcylinder(cylinders):\n",
        "if cylinders == 3:\n",
        "  cylinder = np.array([1,0,0,0,0])\n",
        "elif cylinders == 4:\n",
        "  cylinder = np.array([0,1,0,0,0])\n",
        "elif cylinders == 5:\n",
        "  cylinder = np.array([0,0,1,0,0])\n",
        "elif cylinders == 6:\n",
        "  cylinder = np.array([0,0,0,1,0])\n",
        "else : #8\n",
        "  cylinder = np.array([0,0,0,0,1])\n",
        "  return cylinder\n",
        "  "
      ],
      "execution_count": null,
      "outputs": []
    },
    {
      "cell_type": "code",
      "metadata": {
        "colab": {
          "base_uri": "https://localhost:8080/"
        },
        "id": "jd0J9_6-ME24",
        "outputId": "ad5269a6-d63b-4c6d-efa4-e15fcd4ee4ac"
      },
      "source": [
        "def cyd():\n",
        "  if a == 3:\n",
        "    cylinder = np.array([1,0,0,0,0]).tolist()\n",
        "  elif a == 4:\n",
        "    cylinder = np.array([0,1,0,0,0]).tolist()\n",
        "  elif a == 5:\n",
        "    cylinder = np.array([0,0,1,0,0]).tolist()\n",
        "  elif a == 6:\n",
        "    cylinder = np.array([0,0,0,1,0]).tolist()\n",
        "  else : #8\n",
        "    cylinder = np.array([0,0,0,0,1])\n",
        "  return cylinder\n",
        "print(cylinder)"
      ],
      "execution_count": null,
      "outputs": [
        {
          "output_type": "stream",
          "text": [
            "<function cylinder at 0x7f7e82662320>\n"
          ],
          "name": "stdout"
        }
      ]
    },
    {
      "cell_type": "code",
      "metadata": {
        "colab": {
          "base_uri": "https://localhost:8080/"
        },
        "id": "IJ8a7crTMQjV",
        "outputId": "8780db35-001f-45bb-f332-cf32c93dac59"
      },
      "source": [
        "def org():\n",
        "  if a == 1:\n",
        "    origin = np.array([1,0,0])\n",
        "  elif a == 2:\n",
        "    origin = np.array([0,1,0])\n",
        "  else :\n",
        "    origin = np.array([0,0,1])\n",
        "  return origin\n",
        "print(origin)"
      ],
      "execution_count": null,
      "outputs": [
        {
          "output_type": "stream",
          "text": [
            "<function origin at 0x7f7e82662b00>\n"
          ],
          "name": "stdout"
        }
      ]
    },
    {
      "cell_type": "code",
      "metadata": {
        "colab": {
          "base_uri": "https://localhost:8080/",
          "height": 204
        },
        "id": "KtBahPD9M5Mb",
        "outputId": "641e5b30-8bc4-4cf1-ec1e-a2606ef71033"
      },
      "source": [
        "for i in cyd(a):\n",
        "  for j in org():\n",
        "    print(i,j)"
      ],
      "execution_count": null,
      "outputs": [
        {
          "output_type": "error",
          "ename": "NameError",
          "evalue": "ignored",
          "traceback": [
            "\u001b[0;31m---------------------------------------------------------------------------\u001b[0m",
            "\u001b[0;31mNameError\u001b[0m                                 Traceback (most recent call last)",
            "\u001b[0;32m<ipython-input-87-72c8708d504e>\u001b[0m in \u001b[0;36m<module>\u001b[0;34m()\u001b[0m\n\u001b[0;32m----> 1\u001b[0;31m \u001b[0;32mfor\u001b[0m \u001b[0mi\u001b[0m \u001b[0;32min\u001b[0m \u001b[0mcyd\u001b[0m\u001b[0;34m(\u001b[0m\u001b[0ma\u001b[0m\u001b[0;34m)\u001b[0m\u001b[0;34m:\u001b[0m\u001b[0;34m\u001b[0m\u001b[0;34m\u001b[0m\u001b[0m\n\u001b[0m\u001b[1;32m      2\u001b[0m   \u001b[0;32mfor\u001b[0m \u001b[0mj\u001b[0m \u001b[0;32min\u001b[0m \u001b[0morg\u001b[0m\u001b[0;34m(\u001b[0m\u001b[0;34m)\u001b[0m\u001b[0;34m:\u001b[0m\u001b[0;34m\u001b[0m\u001b[0;34m\u001b[0m\u001b[0m\n\u001b[1;32m      3\u001b[0m     \u001b[0mprint\u001b[0m\u001b[0;34m(\u001b[0m\u001b[0mi\u001b[0m\u001b[0;34m,\u001b[0m\u001b[0mj\u001b[0m\u001b[0;34m)\u001b[0m\u001b[0;34m\u001b[0m\u001b[0;34m\u001b[0m\u001b[0m\n",
            "\u001b[0;31mNameError\u001b[0m: name 'a' is not defined"
          ]
        }
      ]
    },
    {
      "cell_type": "code",
      "metadata": {
        "id": "u6l-e1lpN9Yr"
      },
      "source": [
        ""
      ],
      "execution_count": null,
      "outputs": []
    }
  ]
}